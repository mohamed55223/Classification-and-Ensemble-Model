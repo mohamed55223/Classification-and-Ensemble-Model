{
 "cells": [
  {
   "cell_type": "code",
   "execution_count": 1,
   "metadata": {},
   "outputs": [],
   "source": [
    "import joblib\n",
    "import json\n",
    "import pandas as pd"
   ]
  },
  {
   "cell_type": "code",
   "execution_count": 2,
   "metadata": {},
   "outputs": [],
   "source": [
    "# Load the Ensemble Model\n",
    "ensemble_model = joblib.load(r'f:\\PROJECTS\\Classification and Ensamble\\main_model.joblib')"
   ]
  },
  {
   "cell_type": "code",
   "execution_count": null,
   "metadata": {},
   "outputs": [],
   "source": [
    "with open(r'F:\\PROJECTS\\Classification and Ensamble\\User_input.json', 'r') as json_file:\n",
    "    user_input = json.load(json_file)\n",
    "\n",
    "# Ensure the columns are in the same order as during training\n",
    "\n",
    "# Create a DataFrame from the user input\n",
    "new_data = pd.DataFrame(user_input, index=[0])\n",
    "\n",
    "# Make predictions with the loaded ensemble model\n",
    "predictions = ensemble_model.predict(new_data)\n",
    "\n",
    "# Display the predictions\n",
    "print(\"Predictions:\", predictions)"
   ]
  },
  {
   "cell_type": "code",
   "execution_count": null,
   "metadata": {},
   "outputs": [],
   "source": []
  }
 ],
 "metadata": {
  "kernelspec": {
   "display_name": "Python 3",
   "language": "python",
   "name": "python3"
  },
  "language_info": {
   "codemirror_mode": {
    "name": "ipython",
    "version": 3
   },
   "file_extension": ".py",
   "mimetype": "text/x-python",
   "name": "python",
   "nbconvert_exporter": "python",
   "pygments_lexer": "ipython3",
   "version": "3.11.5"
  }
 },
 "nbformat": 4,
 "nbformat_minor": 2
}
